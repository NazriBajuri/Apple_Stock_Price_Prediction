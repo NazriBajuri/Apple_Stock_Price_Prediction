{
 "cells": [
  {
   "cell_type": "markdown",
   "metadata": {},
   "source": [
    "## Apple's Stock Price Prediction - Time Series Analysis with LSTM using Python's Keras Library\n",
    "\n",
    "### By Nazri Bajuri"
   ]
  },
  {
   "cell_type": "markdown",
   "metadata": {},
   "source": [
    "## Introduction\n",
    "\n",
    "The future stock prices of the Apple Company (AAPL) is predicted, based on its stock prices of the past 5 years.\n"
   ]
  },
  {
   "cell_type": "code",
   "execution_count": 1,
   "metadata": {},
   "outputs": [],
   "source": [
    "#import libraries\n",
    "\n",
    "import matplotlib.pyplot as plt\n",
    "import pandas as pd\n",
    "import pylab as pl\n",
    "import numpy as np\n",
    "import tensorflow as tf\n",
    "import matplotlib.patches as mpatches\n",
    "import matplotlib.pyplot as plt\n"
   ]
  },
  {
   "cell_type": "markdown",
   "metadata": {},
   "source": [
    "### Dataset"
   ]
  },
  {
   "cell_type": "code",
   "execution_count": 92,
   "metadata": {},
   "outputs": [
    {
     "data": {
      "text/html": [
       "<div>\n",
       "<style scoped>\n",
       "    .dataframe tbody tr th:only-of-type {\n",
       "        vertical-align: middle;\n",
       "    }\n",
       "\n",
       "    .dataframe tbody tr th {\n",
       "        vertical-align: top;\n",
       "    }\n",
       "\n",
       "    .dataframe thead th {\n",
       "        text-align: right;\n",
       "    }\n",
       "</style>\n",
       "<table border=\"1\" class=\"dataframe\">\n",
       "  <thead>\n",
       "    <tr style=\"text-align: right;\">\n",
       "      <th></th>\n",
       "      <th>Date</th>\n",
       "      <th>Open</th>\n",
       "      <th>High</th>\n",
       "      <th>Low</th>\n",
       "      <th>Close</th>\n",
       "      <th>Adj Close</th>\n",
       "      <th>Volume</th>\n",
       "    </tr>\n",
       "  </thead>\n",
       "  <tbody>\n",
       "    <tr>\n",
       "      <th>0</th>\n",
       "      <td>2013-01-02</td>\n",
       "      <td>79.117142</td>\n",
       "      <td>79.285713</td>\n",
       "      <td>77.375717</td>\n",
       "      <td>78.432854</td>\n",
       "      <td>69.319641</td>\n",
       "      <td>140129500</td>\n",
       "    </tr>\n",
       "    <tr>\n",
       "      <th>1</th>\n",
       "      <td>2013-01-03</td>\n",
       "      <td>78.268570</td>\n",
       "      <td>78.524284</td>\n",
       "      <td>77.285713</td>\n",
       "      <td>77.442856</td>\n",
       "      <td>68.444672</td>\n",
       "      <td>88241300</td>\n",
       "    </tr>\n",
       "    <tr>\n",
       "      <th>2</th>\n",
       "      <td>2013-01-04</td>\n",
       "      <td>76.709999</td>\n",
       "      <td>76.947144</td>\n",
       "      <td>75.118568</td>\n",
       "      <td>75.285713</td>\n",
       "      <td>66.538162</td>\n",
       "      <td>148583400</td>\n",
       "    </tr>\n",
       "    <tr>\n",
       "      <th>3</th>\n",
       "      <td>2013-01-07</td>\n",
       "      <td>74.571426</td>\n",
       "      <td>75.614288</td>\n",
       "      <td>73.599998</td>\n",
       "      <td>74.842857</td>\n",
       "      <td>66.146751</td>\n",
       "      <td>121039100</td>\n",
       "    </tr>\n",
       "    <tr>\n",
       "      <th>4</th>\n",
       "      <td>2013-01-08</td>\n",
       "      <td>75.601425</td>\n",
       "      <td>75.984283</td>\n",
       "      <td>74.464287</td>\n",
       "      <td>75.044289</td>\n",
       "      <td>66.324783</td>\n",
       "      <td>114676800</td>\n",
       "    </tr>\n",
       "  </tbody>\n",
       "</table>\n",
       "</div>"
      ],
      "text/plain": [
       "         Date       Open       High        Low      Close  Adj Close  \\\n",
       "0  2013-01-02  79.117142  79.285713  77.375717  78.432854  69.319641   \n",
       "1  2013-01-03  78.268570  78.524284  77.285713  77.442856  68.444672   \n",
       "2  2013-01-04  76.709999  76.947144  75.118568  75.285713  66.538162   \n",
       "3  2013-01-07  74.571426  75.614288  73.599998  74.842857  66.146751   \n",
       "4  2013-01-08  75.601425  75.984283  74.464287  75.044289  66.324783   \n",
       "\n",
       "      Volume  \n",
       "0  140129500  \n",
       "1   88241300  \n",
       "2  148583400  \n",
       "3  121039100  \n",
       "4  114676800  "
      ]
     },
     "execution_count": 92,
     "metadata": {},
     "output_type": "execute_result"
    }
   ],
   "source": [
    "#load data\n",
    "\n",
    "df = pd.read_csv(\"AAPL.csv\")\n",
    "df.head()"
   ]
  },
  {
   "cell_type": "code",
   "execution_count": 93,
   "metadata": {},
   "outputs": [],
   "source": [
    "apple_training_complete = df"
   ]
  },
  {
   "cell_type": "code",
   "execution_count": 3,
   "metadata": {},
   "outputs": [],
   "source": [
    "#extract only numbers in OPEN\n",
    "\n",
    "apple_training_processed = df.iloc[:, 1:2].values"
   ]
  },
  {
   "cell_type": "code",
   "execution_count": 4,
   "metadata": {},
   "outputs": [
    {
     "data": {
      "text/plain": [
       "array([[ 79.117142],\n",
       "       [ 78.26857 ],\n",
       "       [ 76.709999],\n",
       "       ...,\n",
       "       [170.100006],\n",
       "       [171.      ],\n",
       "       [170.520004]])"
      ]
     },
     "execution_count": 4,
     "metadata": {},
     "output_type": "execute_result"
    }
   ],
   "source": [
    "apple_training_processed"
   ]
  },
  {
   "cell_type": "code",
   "execution_count": 131,
   "metadata": {},
   "outputs": [
    {
     "data": {
      "image/png": "[encoded data removed]",
      "text/plain": [
       "<Figure size 720x432 with 1 Axes>"
      ]
     },
     "metadata": {
      "needs_background": "light"
     },
     "output_type": "display_data"
    }
   ],
   "source": [
    "plt.figure(figsize=(10,6))\n",
    "plt.plot(apple_training_processed, color='blue', label='Actual Apple Stock Price')\n",
    "plt.title('Apple Stock Price')\n",
    "plt.xlabel('Date')\n",
    "plt.ylabel('Apple Stock Price')\n",
    "plt.show()"
   ]
  },
  {
   "cell_type": "markdown",
   "metadata": {},
   "source": [
    "### Normalisation "
   ]
  },
  {
   "cell_type": "code",
   "execution_count": 5,
   "metadata": {},
   "outputs": [],
   "source": [
    "# To scale data from 0 to 1\n",
    "\n",
    "from sklearn.preprocessing import MinMaxScaler\n",
    "scaler = MinMaxScaler(feature_range = (0,1))\n",
    "\n",
    "apple_training_scaled = scaler.fit_transform(apple_training_processed)"
   ]
  },
  {
   "cell_type": "code",
   "execution_count": 6,
   "metadata": {},
   "outputs": [
    {
     "data": {
      "text/plain": [
       "array([[0.19795893],\n",
       "       [0.19086893],\n",
       "       [0.17784673],\n",
       "       ...,\n",
       "       [0.95814041],\n",
       "       [0.96566005],\n",
       "       [0.96164958]])"
      ]
     },
     "execution_count": 6,
     "metadata": {},
     "output_type": "execute_result"
    }
   ],
   "source": [
    "apple_training_scaled"
   ]
  },
  {
   "cell_type": "code",
   "execution_count": 7,
   "metadata": {},
   "outputs": [
    {
     "data": {
      "text/plain": [
       "1259"
      ]
     },
     "execution_count": 7,
     "metadata": {},
     "output_type": "execute_result"
    }
   ],
   "source": [
    "y = len(apple_training_scaled)\n",
    "y"
   ]
  },
  {
   "cell_type": "markdown",
   "metadata": {},
   "source": [
    "### Convert Training Data to Right Shape\n",
    "\n",
    "Feature set should contain the opening stock price values for the past 60 days (the most optimum) while the label or dependent variable should be the stock price at the 61st day. The following script is to create feature and label set."
   ]
  },
  {
   "cell_type": "code",
   "execution_count": 8,
   "metadata": {},
   "outputs": [],
   "source": [
    "features_set = []\n",
    "labels = []\n",
    "for i in range (60,1259):\n",
    "    features_set.append(apple_training_scaled[i-60:i,0])\n",
    "    labels.append(apple_training_scaled[i,0])"
   ]
  },
  {
   "cell_type": "code",
   "execution_count": 9,
   "metadata": {},
   "outputs": [
    {
     "data": {
      "text/plain": [
       "1199"
      ]
     },
     "execution_count": 9,
     "metadata": {},
     "output_type": "execute_result"
    }
   ],
   "source": [
    "len(features_set)"
   ]
  },
  {
   "cell_type": "code",
   "execution_count": 10,
   "metadata": {},
   "outputs": [
    {
     "data": {
      "text/plain": [
       "1199"
      ]
     },
     "execution_count": 10,
     "metadata": {},
     "output_type": "execute_result"
    }
   ],
   "source": [
    "len(labels)"
   ]
  },
  {
   "cell_type": "markdown",
   "metadata": {},
   "source": [
    "Both the feature_set and the labels list were converted to the numpy array before they are used for training. "
   ]
  },
  {
   "cell_type": "code",
   "execution_count": 11,
   "metadata": {},
   "outputs": [],
   "source": [
    "features_set, labels = np.array(features_set), np.array(labels)"
   ]
  },
  {
   "cell_type": "markdown",
   "metadata": {},
   "source": [
    "In order to train LSTM on data, the data need to be converted into the shape accepted by the LSTM (three-dimensional format). The first dimension is the number of records or rows in the dataset which is 1260 in this case. The second dimension is the number of time steps which is 60 while the last dimension is the number of indicators. Since this project is only using one feature, i.e Open, the number of indicators will be one. "
   ]
  },
  {
   "cell_type": "code",
   "execution_count": 12,
   "metadata": {},
   "outputs": [],
   "source": [
    "features_set = np.reshape(features_set, (features_set.shape[0], features_set.shape[1], 1))"
   ]
  },
  {
   "cell_type": "markdown",
   "metadata": {},
   "source": [
    "### Training The LSTM\n",
    "The LSTM model will be a sequential model with multiple layers - add four LSTM layers to the model followed by a dense layer that predicts the future stock price."
   ]
  },
  {
   "cell_type": "code",
   "execution_count": 13,
   "metadata": {},
   "outputs": [
    {
     "name": "stderr",
     "output_type": "stream",
     "text": [
      "Using TensorFlow backend.\n"
     ]
    }
   ],
   "source": [
    "from keras.models import Sequential\n",
    "from keras.layers import Dense\n",
    "from keras.layers import LSTM\n",
    "from keras.layers import Dropout"
   ]
  },
  {
   "cell_type": "markdown",
   "metadata": {},
   "source": [
    "Instantiate the Sequential class then later add LSTM, Dropout and Dense layers to this model."
   ]
  },
  {
   "cell_type": "code",
   "execution_count": 14,
   "metadata": {},
   "outputs": [],
   "source": [
    "model = Sequential()"
   ]
  },
  {
   "cell_type": "markdown",
   "metadata": {},
   "source": [
    "### Creating LSTM and Dropout Layers\n",
    "\n",
    "To add a layer to the sequential model, the add method is used. Inside the add method, LSTM layer is passed. The first parameter to the LSTM layer is the number of neurons or nodes in the layer. The second parameter is return_sequences, which is set to true since more layers will be added to the model. The first parameter to the input_shape is the number of time steps while the last parameter is the number of indicators."
   ]
  },
  {
   "cell_type": "code",
   "execution_count": 15,
   "metadata": {},
   "outputs": [
    {
     "name": "stdout",
     "output_type": "stream",
     "text": [
      "WARNING:tensorflow:From /Users/nazribajuri/anaconda3/envs/PLDetector/lib/python3.6/site-packages/tensorflow/python/framework/op_def_library.py:263: colocate_with (from tensorflow.python.framework.ops) is deprecated and will be removed in a future version.\n",
      "Instructions for updating:\n",
      "Colocations handled automatically by placer.\n"
     ]
    }
   ],
   "source": [
    "model.add(LSTM(units=10, return_sequences=True, input_shape=(features_set.shape[1], 1)))"
   ]
  },
  {
   "cell_type": "markdown",
   "metadata": {},
   "source": [
    "#### Add dropout layer to avoid overfitting\n"
   ]
  },
  {
   "cell_type": "code",
   "execution_count": 16,
   "metadata": {},
   "outputs": [
    {
     "name": "stdout",
     "output_type": "stream",
     "text": [
      "WARNING:tensorflow:From /Users/nazribajuri/anaconda3/envs/PLDetector/lib/python3.6/site-packages/keras/backend/tensorflow_backend.py:3445: calling dropout (from tensorflow.python.ops.nn_ops) with keep_prob is deprecated and will be removed in a future version.\n",
      "Instructions for updating:\n",
      "Please use `rate` instead of `keep_prob`. Rate should be set to `rate = 1 - keep_prob`.\n"
     ]
    }
   ],
   "source": [
    "model.add(Dropout(0.2))"
   ]
  },
  {
   "cell_type": "markdown",
   "metadata": {},
   "source": [
    "#### Add more layers\n",
    "\n",
    "Three more LSTM and dropout layers are added to the model."
   ]
  },
  {
   "cell_type": "code",
   "execution_count": 17,
   "metadata": {},
   "outputs": [],
   "source": [
    "model.add(LSTM(units=10, return_sequences=True))\n",
    "model.add(Dropout(0.2))\n",
    "\n",
    "model.add(LSTM(units=10, return_sequences=True))\n",
    "model.add(Dropout(0.2))\n",
    "\n",
    "model.add(LSTM(units=10))\n",
    "model.add(Dropout(0.2))"
   ]
  },
  {
   "cell_type": "markdown",
   "metadata": {},
   "source": [
    "### Creating Dense Layer\n",
    "Add a dense layer to make the model more robust, at the end of the model. The number of neurons in the dense layer will be set to 1 since a single value will be predicted in the output.\n",
    "\n"
   ]
  },
  {
   "cell_type": "code",
   "execution_count": 18,
   "metadata": {},
   "outputs": [],
   "source": [
    "model.add(Dense(units = 1))"
   ]
  },
  {
   "cell_type": "markdown",
   "metadata": {},
   "source": [
    "### Model Compilation\n",
    "Compile the LSTM before training it on the training data. The following script compiles the our model."
   ]
  },
  {
   "cell_type": "code",
   "execution_count": 19,
   "metadata": {},
   "outputs": [],
   "source": [
    "model.compile(optimizer = 'adam', loss = 'mean_squared_error')"
   ]
  },
  {
   "cell_type": "markdown",
   "metadata": {},
   "source": [
    "### Algorithm Training\n",
    " Call the fit method to train the model"
   ]
  },
  {
   "cell_type": "code",
   "execution_count": 20,
   "metadata": {},
   "outputs": [
    {
     "name": "stdout",
     "output_type": "stream",
     "text": [
      "WARNING:tensorflow:From /Users/nazribajuri/anaconda3/envs/PLDetector/lib/python3.6/site-packages/tensorflow/python/ops/math_ops.py:3066: to_int32 (from tensorflow.python.ops.math_ops) is deprecated and will be removed in a future version.\n",
      "Instructions for updating:\n",
      "Use tf.cast instead.\n",
      "Epoch 1/100\n",
      "1199/1199 [==============================] - 20s 17ms/step - loss: 0.1000\n",
      "Epoch 2/100\n",
      "1199/1199 [==============================] - 13s 10ms/step - loss: 0.0220\n",
      "Epoch 3/100\n",
      "1199/1199 [==============================] - 13s 11ms/step - loss: 0.0124\n",
      "Epoch 4/100\n",
      "1199/1199 [==============================] - 13s 11ms/step - loss: 0.0115\n",
      "Epoch 5/100\n",
      "1199/1199 [==============================] - 13s 11ms/step - loss: 0.0114\n",
      "Epoch 6/100\n",
      "1199/1199 [==============================] - 13s 11ms/step - loss: 0.0108\n",
      "Epoch 7/100\n",
      "1199/1199 [==============================] - 13s 11ms/step - loss: 0.0101\n",
      "Epoch 8/100\n",
      "1199/1199 [==============================] - 13s 11ms/step - loss: 0.0098\n",
      "Epoch 9/100\n",
      "1199/1199 [==============================] - 13s 11ms/step - loss: 0.0101\n",
      "Epoch 10/100\n",
      "1199/1199 [==============================] - 13s 10ms/step - loss: 0.0090\n",
      "Epoch 11/100\n",
      "1199/1199 [==============================] - 13s 11ms/step - loss: 0.0090\n",
      "Epoch 12/100\n",
      "1199/1199 [==============================] - 13s 11ms/step - loss: 0.0083\n",
      "Epoch 13/100\n",
      "1199/1199 [==============================] - 14s 12ms/step - loss: 0.0080\n",
      "Epoch 14/100\n",
      "1199/1199 [==============================] - 14s 12ms/step - loss: 0.0072\n",
      "Epoch 15/100\n",
      "1199/1199 [==============================] - 13s 11ms/step - loss: 0.0082\n",
      "Epoch 16/100\n",
      "1199/1199 [==============================] - 13s 11ms/step - loss: 0.0066\n",
      "Epoch 17/100\n",
      "1199/1199 [==============================] - 13s 11ms/step - loss: 0.0071\n",
      "Epoch 18/100\n",
      "1199/1199 [==============================] - 13s 11ms/step - loss: 0.0067\n",
      "Epoch 19/100\n",
      "1199/1199 [==============================] - 13s 10ms/step - loss: 0.0062\n",
      "Epoch 20/100\n",
      "1199/1199 [==============================] - 13s 10ms/step - loss: 0.0061\n",
      "Epoch 21/100\n",
      "1199/1199 [==============================] - 13s 11ms/step - loss: 0.0060\n",
      "Epoch 22/100\n",
      "1199/1199 [==============================] - 13s 11ms/step - loss: 0.0054\n",
      "Epoch 23/100\n",
      "1199/1199 [==============================] - 13s 10ms/step - loss: 0.0060\n",
      "Epoch 24/100\n",
      "1199/1199 [==============================] - 13s 11ms/step - loss: 0.0061\n",
      "Epoch 25/100\n",
      "1199/1199 [==============================] - 13s 11ms/step - loss: 0.0062\n",
      "Epoch 26/100\n",
      "1199/1199 [==============================] - 13s 11ms/step - loss: 0.0054\n",
      "Epoch 27/100\n",
      "1199/1199 [==============================] - 13s 11ms/step - loss: 0.0055\n",
      "Epoch 28/100\n",
      "1199/1199 [==============================] - 13s 11ms/step - loss: 0.0053\n",
      "Epoch 29/100\n",
      "1199/1199 [==============================] - 13s 10ms/step - loss: 0.0053\n",
      "Epoch 30/100\n",
      "1199/1199 [==============================] - 13s 10ms/step - loss: 0.0051\n",
      "Epoch 31/100\n",
      "1199/1199 [==============================] - 15s 12ms/step - loss: 0.0049\n",
      "Epoch 32/100\n",
      "1199/1199 [==============================] - 16s 13ms/step - loss: 0.0049\n",
      "Epoch 33/100\n",
      "1199/1199 [==============================] - 15s 12ms/step - loss: 0.0046\n",
      "Epoch 34/100\n",
      "1199/1199 [==============================] - 15s 13ms/step - loss: 0.0050\n",
      "Epoch 35/100\n",
      "1199/1199 [==============================] - 16s 13ms/step - loss: 0.0046\n",
      "Epoch 36/100\n",
      "1199/1199 [==============================] - 20s 17ms/step - loss: 0.0044\n",
      "Epoch 37/100\n",
      "1199/1199 [==============================] - 18s 15ms/step - loss: 0.0046\n",
      "Epoch 38/100\n",
      "1199/1199 [==============================] - 22s 19ms/step - loss: 0.0041\n",
      "Epoch 39/100\n",
      "1199/1199 [==============================] - 24s 20ms/step - loss: 0.0045\n",
      "Epoch 40/100\n",
      "1199/1199 [==============================] - 27s 23ms/step - loss: 0.0042\n",
      "Epoch 41/100\n",
      "1199/1199 [==============================] - 30s 25ms/step - loss: 0.0041\n",
      "Epoch 42/100\n",
      "1199/1199 [==============================] - 18s 15ms/step - loss: 0.0041\n",
      "Epoch 43/100\n",
      "1199/1199 [==============================] - 14s 12ms/step - loss: 0.0043\n",
      "Epoch 44/100\n",
      "1199/1199 [==============================] - 19s 16ms/step - loss: 0.0044\n",
      "Epoch 45/100\n",
      "1199/1199 [==============================] - 17s 14ms/step - loss: 0.0043\n",
      "Epoch 46/100\n",
      "1199/1199 [==============================] - 14s 11ms/step - loss: 0.0038\n",
      "Epoch 47/100\n",
      "1199/1199 [==============================] - 13s 11ms/step - loss: 0.0039\n",
      "Epoch 48/100\n",
      "1199/1199 [==============================] - 13s 11ms/step - loss: 0.0036\n",
      "Epoch 49/100\n",
      "1199/1199 [==============================] - 14s 12ms/step - loss: 0.0039\n",
      "Epoch 50/100\n",
      "1199/1199 [==============================] - 15s 12ms/step - loss: 0.0036\n",
      "Epoch 51/100\n",
      "1199/1199 [==============================] - 16s 13ms/step - loss: 0.0038\n",
      "Epoch 52/100\n",
      "1199/1199 [==============================] - 15s 13ms/step - loss: 0.0035\n",
      "Epoch 53/100\n",
      "1199/1199 [==============================] - 24s 20ms/step - loss: 0.0036\n",
      "Epoch 54/100\n",
      "1199/1199 [==============================] - 18s 15ms/step - loss: 0.0036\n",
      "Epoch 55/100\n",
      "1199/1199 [==============================] - 18s 15ms/step - loss: 0.0033\n",
      "Epoch 56/100\n",
      "1199/1199 [==============================] - 19s 16ms/step - loss: 0.0035\n",
      "Epoch 57/100\n",
      "1199/1199 [==============================] - 17s 14ms/step - loss: 0.0036\n",
      "Epoch 58/100\n",
      "1199/1199 [==============================] - 16s 13ms/step - loss: 0.0031\n",
      "Epoch 59/100\n",
      "1199/1199 [==============================] - 17s 14ms/step - loss: 0.0029\n",
      "Epoch 60/100\n",
      "1199/1199 [==============================] - 19s 16ms/step - loss: 0.0033\n",
      "Epoch 61/100\n",
      "1199/1199 [==============================] - 15s 12ms/step - loss: 0.0035\n",
      "Epoch 62/100\n",
      "1199/1199 [==============================] - 18s 15ms/step - loss: 0.0035\n",
      "Epoch 63/100\n",
      "1199/1199 [==============================] - 17s 14ms/step - loss: 0.0034\n",
      "Epoch 64/100\n",
      "1199/1199 [==============================] - 14s 12ms/step - loss: 0.0031\n",
      "Epoch 65/100\n",
      "1199/1199 [==============================] - 13s 11ms/step - loss: 0.0030\n",
      "Epoch 66/100\n",
      "1199/1199 [==============================] - 16s 13ms/step - loss: 0.0032\n",
      "Epoch 67/100\n",
      "1199/1199 [==============================] - 15s 13ms/step - loss: 0.0029\n",
      "Epoch 68/100\n",
      "1199/1199 [==============================] - 20s 16ms/step - loss: 0.0030\n",
      "Epoch 69/100\n",
      "1199/1199 [==============================] - 19s 16ms/step - loss: 0.0031\n",
      "Epoch 70/100\n",
      "1199/1199 [==============================] - 17s 14ms/step - loss: 0.0030\n",
      "Epoch 71/100\n",
      "1199/1199 [==============================] - 15s 13ms/step - loss: 0.0031\n",
      "Epoch 72/100\n",
      "1199/1199 [==============================] - 13s 11ms/step - loss: 0.0030\n",
      "Epoch 73/100\n",
      "1199/1199 [==============================] - 18s 15ms/step - loss: 0.0028\n",
      "Epoch 74/100\n",
      "1199/1199 [==============================] - 15s 13ms/step - loss: 0.0029\n",
      "Epoch 75/100\n",
      "1199/1199 [==============================] - 16s 13ms/step - loss: 0.0029\n",
      "Epoch 76/100\n",
      "1199/1199 [==============================] - 15s 12ms/step - loss: 0.0027\n",
      "Epoch 77/100\n",
      "1199/1199 [==============================] - 18s 15ms/step - loss: 0.0027\n",
      "Epoch 78/100\n",
      "1199/1199 [==============================] - 16s 13ms/step - loss: 0.0031\n",
      "Epoch 79/100\n",
      "1199/1199 [==============================] - 16s 13ms/step - loss: 0.0029\n",
      "Epoch 80/100\n",
      "1199/1199 [==============================] - 13s 11ms/step - loss: 0.0030\n",
      "Epoch 81/100\n",
      "1199/1199 [==============================] - 13s 11ms/step - loss: 0.0027\n",
      "Epoch 82/100\n",
      "1199/1199 [==============================] - 14s 12ms/step - loss: 0.0028\n",
      "Epoch 83/100\n",
      "1199/1199 [==============================] - 16s 13ms/step - loss: 0.0029\n",
      "Epoch 84/100\n",
      "1199/1199 [==============================] - 15s 13ms/step - loss: 0.0028\n",
      "Epoch 85/100\n",
      "1199/1199 [==============================] - 15s 13ms/step - loss: 0.0030\n",
      "Epoch 86/100\n",
      "1199/1199 [==============================] - 14s 12ms/step - loss: 0.0027\n",
      "Epoch 87/100\n",
      "1199/1199 [==============================] - 17s 15ms/step - loss: 0.0032\n",
      "Epoch 88/100\n",
      "1199/1199 [==============================] - 15s 13ms/step - loss: 0.0027\n",
      "Epoch 89/100\n",
      "1199/1199 [==============================] - 13s 11ms/step - loss: 0.0027\n",
      "Epoch 90/100\n",
      "1199/1199 [==============================] - 15s 12ms/step - loss: 0.0028\n",
      "Epoch 91/100\n",
      "1199/1199 [==============================] - 14s 12ms/step - loss: 0.0028\n",
      "Epoch 92/100\n",
      "1199/1199 [==============================] - 16s 13ms/step - loss: 0.0029\n",
      "Epoch 93/100\n",
      "1199/1199 [==============================] - 14s 12ms/step - loss: 0.0029\n",
      "Epoch 94/100\n",
      "1199/1199 [==============================] - 14s 11ms/step - loss: 0.0026\n",
      "Epoch 95/100\n",
      "1199/1199 [==============================] - 18s 15ms/step - loss: 0.0027\n",
      "Epoch 96/100\n",
      "1199/1199 [==============================] - 13s 11ms/step - loss: 0.0029\n",
      "Epoch 97/100\n",
      "1199/1199 [==============================] - 14s 12ms/step - loss: 0.0026\n",
      "Epoch 98/100\n",
      "1199/1199 [==============================] - 15s 12ms/step - loss: 0.0026\n",
      "Epoch 99/100\n",
      "1199/1199 [==============================] - 15s 12ms/step - loss: 0.0026\n",
      "Epoch 100/100\n",
      "1199/1199 [==============================] - 13s 11ms/step - loss: 0.0030\n"
     ]
    },
    {
     "data": {
      "text/plain": [
       "<keras.callbacks.History at 0x1a3d11b668>"
      ]
     },
     "execution_count": 20,
     "metadata": {},
     "output_type": "execute_result"
    }
   ],
   "source": [
    "model.fit(features_set, labels, epochs = 100, batch_size = 32)"
   ]
  },
  {
   "cell_type": "markdown",
   "metadata": {},
   "source": [
    "## Testing LSTM\n",
    "\n",
    "Successfully trained the LSTM, now is the time to test the performance on the test set by predicting the opening stock prices for the month of January 2018. However, test data need to be converted into the right format.\n",
    "\n"
   ]
  },
  {
   "cell_type": "code",
   "execution_count": 119,
   "metadata": {},
   "outputs": [],
   "source": [
    "# Let's first import our test data.\n",
    "apple_testing_complete = pd.read_csv(\"AAPL_test.csv\")\n",
    "apple_testing_processed = apple_testing_complete.iloc[:, 0:2].values"
   ]
  },
  {
   "cell_type": "code",
   "execution_count": 120,
   "metadata": {},
   "outputs": [
    {
     "data": {
      "image/png": "[encoded data removed]",
      "text/plain": [
       "<Figure size 720x360 with 1 Axes>"
      ]
     },
     "metadata": {
      "needs_background": "light"
     },
     "output_type": "display_data"
    }
   ],
   "source": [
    "# Let's plot. \n",
    "\n",
    "x = apple_testing_processed[:,0]\n",
    "y = apple_testing_processed[:,1]\n",
    "plt.figure(figsize=(10,5))\n",
    "plt.title\n",
    "plt.plot(x,y)\n",
    "plt.xticks(rotation=30)\n",
    "plt.show()"
   ]
  },
  {
   "cell_type": "markdown",
   "metadata": {},
   "source": [
    "The trend is highly non-linear. Overall, the stock prices see small rise at the start of the month followed by a downward trend at the end of the month, with a slight increase and decrease in the stock prices in-between. It is extremely difficult to forecast such a trend. Let's see if the trained LSTM is actually able to predict such a trend."
   ]
  },
  {
   "cell_type": "code",
   "execution_count": 121,
   "metadata": {},
   "outputs": [],
   "source": [
    "# Remove all the columns from the test data except the column that contains opening stock prices.\n",
    "\n",
    "apple_testing_processed = apple_testing_complete.iloc[:, 1:2].values"
   ]
  },
  {
   "cell_type": "markdown",
   "metadata": {},
   "source": [
    "\n",
    "### Converting Test Data to Right Format\n",
    "\n",
    "For each day of January 2018, feature set should contain the opening stock prices for the previous 60 days. For the 1st of January, the stock prices must include the previous 60 days. To do so, training data and test data are needed to be concatenated before preprocessing."
   ]
  },
  {
   "cell_type": "code",
   "execution_count": 122,
   "metadata": {},
   "outputs": [
    {
     "data": {
      "text/plain": [
       "<function matplotlib.pyplot.show(*args, **kw)>"
      ]
     },
     "execution_count": 122,
     "metadata": {},
     "output_type": "execute_result"
    },
    {
     "data": {
      "image/png": "[encoded data removed]",
      "text/plain": [
       "<Figure size 432x288 with 1 Axes>"
      ]
     },
     "metadata": {
      "needs_background": "light"
     },
     "output_type": "display_data"
    }
   ],
   "source": [
    "apple_total = pd.concat((apple_training_complete['Open'], apple_testing_complete['Open']), axis=0)"
   ]
  },
  {
   "cell_type": "markdown",
   "metadata": {},
   "source": [
    "Prepare test inputs. The input for each day should contain the opening stock prices for the previous 60 days. That means opening stock prices for the 20 test days for the month of January 2018 are needed, as well as the 60 stock prices from the last 60 days for the training set."
   ]
  },
  {
   "cell_type": "code",
   "execution_count": 123,
   "metadata": {},
   "outputs": [],
   "source": [
    "test_inputs = apple_total[len(apple_total) - len(apple_testing_complete) - 60:].values"
   ]
  },
  {
   "cell_type": "code",
   "execution_count": 124,
   "metadata": {},
   "outputs": [],
   "source": [
    "## Scaling\n",
    "\n",
    "test_inputs = test_inputs.reshape(-1,1)\n",
    "test_inputs = scaler.transform(test_inputs)"
   ]
  },
  {
   "cell_type": "markdown",
   "metadata": {},
   "source": [
    "Prepare the final test input set that will contain previous 60 stock prices for the month of January. "
   ]
  },
  {
   "cell_type": "code",
   "execution_count": 125,
   "metadata": {},
   "outputs": [],
   "source": [
    "test_features = []\n",
    "for i in range(60, 80):\n",
    "    test_features.append(test_inputs[i-60:i, 0])"
   ]
  },
  {
   "cell_type": "markdown",
   "metadata": {},
   "source": [
    "Finally, convert the data into the three-dimensional format which can be used as input to the LSTM. "
   ]
  },
  {
   "cell_type": "code",
   "execution_count": 126,
   "metadata": {},
   "outputs": [],
   "source": [
    "test_features = np.array(test_features)\n",
    "test_features = np.reshape(test_features, (test_features.shape[0], test_features.shape[1], 1))"
   ]
  },
  {
   "cell_type": "markdown",
   "metadata": {},
   "source": [
    "### Making Predictions\n",
    "\n",
    "\n"
   ]
  },
  {
   "cell_type": "code",
   "execution_count": 127,
   "metadata": {},
   "outputs": [],
   "source": [
    "predictions = model.predict(test_features)"
   ]
  },
  {
   "cell_type": "markdown",
   "metadata": {},
   "source": [
    "Since the data were scaled, the predictions made by the LSTM are also scaled. The scaled prediction need to be rescaled back to their actual values. To do so, use the ìnverse_transform method of the scaler object created during training."
   ]
  },
  {
   "cell_type": "code",
   "execution_count": 128,
   "metadata": {},
   "outputs": [],
   "source": [
    "predictions = scaler.inverse_transform(predictions)"
   ]
  },
  {
   "cell_type": "markdown",
   "metadata": {},
   "source": [
    "Finally, let's see how well the algorithm predicts the future stock prices."
   ]
  },
  {
   "cell_type": "code",
   "execution_count": 130,
   "metadata": {},
   "outputs": [
    {
     "data": {
      "image/png": "[encoded data removed]",
      "text/plain": [
       "<Figure size 720x432 with 1 Axes>"
      ]
     },
     "metadata": {
      "needs_background": "light"
     },
     "output_type": "display_data"
    }
   ],
   "source": [
    "plt.figure(figsize=(10,6))\n",
    "plt.plot(apple_testing_processed, color='blue', label='Actual Apple Stock Price')\n",
    "plt.plot(predictions , color='red', label='Predicted Apple Stock Price')\n",
    "plt.title('Apple Stock Price Prediction')\n",
    "plt.xlabel('Date')\n",
    "plt.ylabel('Apple Stock Price')\n",
    "plt.legend()\n",
    "plt.show()"
   ]
  },
  {
   "cell_type": "markdown",
   "metadata": {},
   "source": [
    "In the output, the blue line represents the actual stock prices for the month of January 2018, while the red line represents the predicted stock prices. It can be seen that the algorithm has been able to capture the overall trend. The predicted prices also see a bullish trend at the beginning followed by a bearish or downwards trend at the end. "
   ]
  }
 ],
 "metadata": {
  "kernelspec": {
   "display_name": "Python [conda env:PLDetector]",
   "language": "python",
   "name": "conda-env-PLDetector-py"
  },
  "language_info": {
   "codemirror_mode": {
    "name": "ipython",
    "version": 3
   },
   "file_extension": ".py",
   "mimetype": "text/x-python",
   "name": "python",
   "nbconvert_exporter": "python",
   "pygments_lexer": "ipython3",
   "version": "3.6.9"
  }
 },
 "nbformat": 4,
 "nbformat_minor": 2
}
